{
  "nbformat": 4,
  "nbformat_minor": 0,
  "metadata": {
    "colab": {
      "provenance": []
    },
    "kernelspec": {
      "name": "python3",
      "display_name": "Python 3"
    },
    "language_info": {
      "name": "python"
    }
  },
  "cells": [
    {
      "cell_type": "code",
      "execution_count": null,
      "metadata": {
        "colab": {
          "base_uri": "https://localhost:8080/"
        },
        "id": "F8JuJAqWLnf9",
        "outputId": "f14af462-3b2f-454c-9fbf-afb47ddad85c"
      },
      "outputs": [
        {
          "output_type": "stream",
          "name": "stdout",
          "text": [
            "A=\n",
            "[[0 1]\n",
            " [2 3]\n",
            " [4 5]]\n",
            "B=\n",
            "[[0 1 2 3]\n",
            " [4 5 6 7]]\n",
            "Aの最大値: 5\n",
            "Bの最大値: 7\n"
          ]
        }
      ],
      "source": [
        "# NumPyをインポートするコードを記述する\n",
        "import numpy as np\n",
        "\n",
        "# AとBの行列を格納する多次元配列のコードを記述する\n",
        "A = np.array([[0, 1], [2, 3], [4, 5]])\n",
        "B = np.array([[0, 1, 2, 3], [4, 5, 6, 7]])\n",
        "\n",
        "# Step3.の計算結果を表示するコードを記述する\n",
        "print(\"A=\")\n",
        "print(A)\n",
        "print(\"B=\")\n",
        "print(B)\n",
        "\n",
        "# 行列の要素の最大値を求めるコードを記述する\n",
        "max_A = np.max(A)\n",
        "max_B = np.max(B)\n",
        "\n",
        "print(\"Aの最大値:\", max_A)\n",
        "print(\"Bの最大値:\", max_B)\n"
      ]
    }
  ]
}